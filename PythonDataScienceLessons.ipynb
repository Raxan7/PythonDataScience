{
 "cells": [
  {
   "cell_type": "code",
   "execution_count": 1,
   "id": "0724db4c",
   "metadata": {},
   "outputs": [
    {
     "name": "stdout",
     "output_type": "stream",
     "text": [
      "Hello world!\n"
     ]
    }
   ],
   "source": [
    "print(\"Hello world!\")"
   ]
  },
  {
   "cell_type": "code",
   "execution_count": 8,
   "id": "990e195e",
   "metadata": {},
   "outputs": [
    {
     "name": "stdout",
     "output_type": "stream",
     "text": [
      "Your name is Abuu\n"
     ]
    }
   ],
   "source": [
    "class Person:\n",
    "    name = \"Abuu\"\n",
    "    \n",
    "    def __inti__(self, name):\n",
    "        self.name = name\n",
    "        \n",
    "    def print_name(self):\n",
    "        print(f\"Your name is {self.name}\")\n",
    "\n",
    "class Student(Person):\n",
    "    pass\n",
    "\n",
    "mimi = Student()\n",
    "mimi.print_name()"
   ]
  },
  {
   "cell_type": "code",
   "execution_count": 9,
   "id": "df08561f",
   "metadata": {},
   "outputs": [],
   "source": [
    "# def isPalindrome(userInput):\n",
    "#     if userInput.length % 2 == 0:\n",
    "        \n",
    "#     return 0"
   ]
  },
  {
   "cell_type": "code",
   "execution_count": 11,
   "id": "9b3525fc",
   "metadata": {},
   "outputs": [
    {
     "name": "stdout",
     "output_type": "stream",
     "text": [
      "This is a breast feeding mammal\n"
     ]
    }
   ],
   "source": [
    "class Mammal:\n",
    "    warm_blooded = True\n",
    "    vertebrate = True\n",
    "    breast_feeding = True\n",
    "    \n",
    "    def breast_feeding_method(self):\n",
    "        if self.breast_feeding:\n",
    "            print(\"This is a breast feeding mammal\")\n",
    "        else:\n",
    "            print(\"This is not a breast feeding mammal\")\n",
    "\n",
    "            \n",
    "class Whale(Mammal):\n",
    "    def __init__(self, color):\n",
    "        self.color = color\n",
    "        \n",
    "\n",
    "whale1 = Whale(color=\"green\")\n",
    "whale1.breast_feeding_method()\n",
    "\n",
    "# Positional arguments and parameters\n",
    "# Keyword arguments and parameters\n",
    "# Variable positional arguments and variable keyword arguments"
   ]
  },
  {
   "cell_type": "code",
   "execution_count": 30,
   "id": "461ada48",
   "metadata": {},
   "outputs": [
    {
     "name": "stdout",
     "output_type": "stream",
     "text": [
      "You deposited 400000, your balance is 401000.0\n",
      "You withdrew 10000, your balance is 391000.0\n",
      "The account belongs to Abu,your accno is 34564\n"
     ]
    }
   ],
   "source": [
    "class BankAccount:\n",
    "    \n",
    "    def __init__(self, accNo, accName, balance):\n",
    "        self.accNo = accNo\n",
    "        self.accName = accName\n",
    "        self.balance = balance\n",
    "    \n",
    "    def deposit(self, amount):\n",
    "        if amount > 0:\n",
    "            self.balance += amount\n",
    "            feedback = f\"You deposited {amount}, your balance is {self.balance}\"\n",
    "            return feedback\n",
    "        else:\n",
    "            return f\"Insufficient amount\"\n",
    "        \n",
    "    def withdraw(self, amount):\n",
    "        if amount <= self.balance:\n",
    "            self.balance -= amount\n",
    "            feedback = f\"You withdrew {amount}, your balance is {self.balance}\"\n",
    "            return feedback\n",
    "        else:\n",
    "            return f\"You have no money\"\n",
    "    \n",
    "    def accDetails(self, accNo,accName):\n",
    "        self.accNo = accNo\n",
    "        self.accName = accName\n",
    "        return f\"The account belongs to {self.accName},your accno is {self.accNo}\n",
    "       \n",
    "    \n",
    "    \n",
    "account1 = BankAccount(accNo = 1, accName = \"Abubakar\", balance = 1000.00)\n",
    "print(account1.deposit(400000))\n",
    "print(account1.withdraw(10000))\n",
    "print(account1.accDetails(34564,\"Abu\"))\n"
   ]
  },
  {
   "cell_type": "code",
   "execution_count": 1,
   "id": "05097631",
   "metadata": {},
   "outputs": [
    {
     "ename": "ModuleNotFoundError",
     "evalue": "No module named 'numpy'",
     "output_type": "error",
     "traceback": [
      "\u001b[0;31m---------------------------------------------------------------------------\u001b[0m",
      "\u001b[0;31mModuleNotFoundError\u001b[0m                       Traceback (most recent call last)",
      "Cell \u001b[0;32mIn[1], line 1\u001b[0m\n\u001b[0;32m----> 1\u001b[0m \u001b[38;5;28;01mimport\u001b[39;00m \u001b[38;5;21;01mnumpy\u001b[39;00m \u001b[38;5;28;01mas\u001b[39;00m \u001b[38;5;21;01mnp\u001b[39;00m\n",
      "\u001b[0;31mModuleNotFoundError\u001b[0m: No module named 'numpy'"
     ]
    }
   ],
   "source": [
    "!pip install numpy\n",
    "# import numpy as np"
   ]
  },
  {
   "cell_type": "code",
   "execution_count": 1,
   "id": "766b1084",
   "metadata": {},
   "outputs": [
    {
     "ename": "TypeError",
     "evalue": "can only concatenate str (not \"int\") to str",
     "output_type": "error",
     "traceback": [
      "\u001b[0;31m---------------------------------------------------------------------------\u001b[0m",
      "\u001b[0;31mTypeError\u001b[0m                                 Traceback (most recent call last)",
      "Cell \u001b[0;32mIn[1], line 1\u001b[0m\n\u001b[0;32m----> 1\u001b[0m \u001b[38;5;28mprint\u001b[39m(\u001b[38;5;124;43m'\u001b[39;49m\u001b[38;5;124;43m5\u001b[39;49m\u001b[38;5;124;43m'\u001b[39;49m\u001b[43m \u001b[49m\u001b[38;5;241;43m+\u001b[39;49m\u001b[43m \u001b[49m\u001b[38;5;241;43m5\u001b[39;49m)\n",
      "\u001b[0;31mTypeError\u001b[0m: can only concatenate str (not \"int\") to str"
     ]
    }
   ],
   "source": [
    "print(str(juma) + 5)"
   ]
  },
  {
   "cell_type": "code",
   "execution_count": 2,
   "id": "d27901e5",
   "metadata": {},
   "outputs": [
    {
     "name": "stdout",
     "output_type": "stream",
     "text": [
      "0\n",
      "2\n",
      "4\n",
      "6\n",
      "8\n"
     ]
    }
   ],
   "source": [
    "for i in range(0, 10, 2):\n",
    "    print(i)"
   ]
  },
  {
   "cell_type": "code",
   "execution_count": null,
   "id": "a07ea779",
   "metadata": {},
   "outputs": [],
   "source": []
  }
 ],
 "metadata": {
  "kernelspec": {
   "display_name": "Python 3 (ipykernel)",
   "language": "python",
   "name": "python3"
  },
  "language_info": {
   "codemirror_mode": {
    "name": "ipython",
    "version": 3
   },
   "file_extension": ".py",
   "mimetype": "text/x-python",
   "name": "python",
   "nbconvert_exporter": "python",
   "pygments_lexer": "ipython3",
   "version": "3.10.12"
  }
 },
 "nbformat": 4,
 "nbformat_minor": 5
}
