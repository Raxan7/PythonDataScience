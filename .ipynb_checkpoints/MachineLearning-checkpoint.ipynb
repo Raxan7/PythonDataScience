{
 "cells": [
  {
   "cell_type": "code",
   "execution_count": 2,
   "id": "b2e900b8",
   "metadata": {},
   "outputs": [
    {
     "name": "stdout",
     "output_type": "stream",
     "text": [
      "Defaulting to user installation because normal site-packages is not writeable\n",
      "Requirement already satisfied: numpy in /home/saidi/.local/lib/python3.10/site-packages (1.25.2)\n"
     ]
    }
   ],
   "source": [
    "!pip install numpy"
   ]
  },
  {
   "cell_type": "code",
   "execution_count": 2,
   "id": "31945402",
   "metadata": {},
   "outputs": [],
   "source": [
    "import numpy as np"
   ]
  },
  {
   "cell_type": "code",
   "execution_count": 3,
   "id": "b660d666",
   "metadata": {},
   "outputs": [
    {
     "data": {
      "text/plain": [
       "'module'"
      ]
     },
     "execution_count": 3,
     "metadata": {},
     "output_type": "execute_result"
    }
   ],
   "source": [
    "np.__class__.__name__"
   ]
  },
  {
   "cell_type": "code",
   "execution_count": 5,
   "id": "87a0d868",
   "metadata": {},
   "outputs": [],
   "source": [
    "arr1 = np.array([1,2,3,4,5])"
   ]
  },
  {
   "cell_type": "code",
   "execution_count": 6,
   "id": "0a24435a",
   "metadata": {},
   "outputs": [
    {
     "name": "stdout",
     "output_type": "stream",
     "text": [
      "[1 2 3 4 5]\n"
     ]
    }
   ],
   "source": [
    "print(arr1)"
   ]
  },
  {
   "cell_type": "code",
   "execution_count": 10,
   "id": "1c6f32f5",
   "metadata": {},
   "outputs": [
    {
     "data": {
      "text/plain": [
       "array([[1, 2, 3, 4, 5],\n",
       "       [6, 7, 8, 9, 5]])"
      ]
     },
     "execution_count": 10,
     "metadata": {},
     "output_type": "execute_result"
    }
   ],
   "source": [
    "np.array([(1,2,3,4,5), \n",
    "          (6,7,8,9,5)])"
   ]
  },
  {
   "cell_type": "code",
   "execution_count": 11,
   "id": "8af77633",
   "metadata": {},
   "outputs": [
    {
     "data": {
      "text/plain": [
       "array([1, 2, 3, 4, 5, 6])"
      ]
     },
     "execution_count": 11,
     "metadata": {},
     "output_type": "execute_result"
    }
   ],
   "source": [
    "# Creating an Array from a list\n",
    "\n",
    "num_list = [1,2,3,4,5,6]\n",
    "np.array(num_list)"
   ]
  },
  {
   "cell_type": "markdown",
   "id": "5bc46d1e",
   "metadata": {},
   "source": [
    "**Generating Arrays**"
   ]
  },
  {
   "cell_type": "code",
   "execution_count": 12,
   "id": "ec08e013",
   "metadata": {},
   "outputs": [],
   "source": [
    "# Generating an identity array"
   ]
  },
  {
   "cell_type": "code",
   "execution_count": 13,
   "id": "01f4db53",
   "metadata": {},
   "outputs": [
    {
     "name": "stdout",
     "output_type": "stream",
     "text": [
      "[[1. 0. 0. 0.]\n",
      " [0. 1. 0. 0.]\n",
      " [0. 0. 1. 0.]\n",
      " [0. 0. 0. 1.]]\n"
     ]
    }
   ],
   "source": [
    "identity_array = np.identity(4)\n",
    "print(identity_array)"
   ]
  },
  {
   "cell_type": "code",
   "execution_count": 16,
   "id": "4c9ce106",
   "metadata": {},
   "outputs": [
    {
     "data": {
      "text/plain": [
       "array([[7., 0., 0., 0.],\n",
       "       [0., 7., 0., 0.],\n",
       "       [0., 0., 7., 0.],\n",
       "       [0., 0., 0., 7.]])"
      ]
     },
     "execution_count": 16,
     "metadata": {},
     "output_type": "execute_result"
    }
   ],
   "source": [
    "# Generating an identity matrix of 1s\n",
    "\n",
    "np.eye(4) "
   ]
  },
  {
   "cell_type": "code",
   "execution_count": 17,
   "id": "c1ffcb96",
   "metadata": {},
   "outputs": [
    {
     "data": {
      "text/plain": [
       "array([[7., 0., 0., 0.],\n",
       "       [0., 7., 0., 0.],\n",
       "       [0., 0., 7., 0.],\n",
       "       [0., 0., 0., 7.]])"
      ]
     },
     "execution_count": 17,
     "metadata": {},
     "output_type": "execute_result"
    }
   ],
   "source": [
    "# You can multiply with any constant\n",
    "\n",
    "np.eye(4) * 7"
   ]
  },
  {
   "cell_type": "code",
   "execution_count": 18,
   "id": "d5155d2c",
   "metadata": {},
   "outputs": [
    {
     "data": {
      "text/plain": [
       "array([0., 0., 0., 0., 0.])"
      ]
     },
     "execution_count": 18,
     "metadata": {},
     "output_type": "execute_result"
    }
   ],
   "source": [
    "# Generating zero arrays of given size\n",
    "# 1 dimensional zero array\n",
    "\n",
    "np.zeros(5)"
   ]
  },
  {
   "cell_type": "code",
   "execution_count": 19,
   "id": "7072727d",
   "metadata": {},
   "outputs": [
    {
     "data": {
      "text/plain": [
       "array([[0., 0., 0., 0., 0., 0.],\n",
       "       [0., 0., 0., 0., 0., 0.],\n",
       "       [0., 0., 0., 0., 0., 0.],\n",
       "       [0., 0., 0., 0., 0., 0.],\n",
       "       [0., 0., 0., 0., 0., 0.]])"
      ]
     },
     "execution_count": 19,
     "metadata": {},
     "output_type": "execute_result"
    }
   ],
   "source": [
    "# Creating a 2 dimensional zero array\n",
    "\n",
    "np.zeros((5,6))"
   ]
  },
  {
   "cell_type": "code",
   "execution_count": 20,
   "id": "120ae0b0",
   "metadata": {},
   "outputs": [
    {
     "data": {
      "text/plain": [
       "array([1., 1., 1., 1., 1.])"
      ]
     },
     "execution_count": 20,
     "metadata": {},
     "output_type": "execute_result"
    }
   ],
   "source": [
    "# Generating arrays of 1s\n",
    "\n",
    "np.ones(5)"
   ]
  },
  {
   "cell_type": "code",
   "execution_count": 22,
   "id": "5072d279",
   "metadata": {},
   "outputs": [
    {
     "data": {
      "text/plain": [
       "array([0, 1, 2, 3, 4])"
      ]
     },
     "execution_count": 22,
     "metadata": {},
     "output_type": "execute_result"
    }
   ],
   "source": [
    "# Generate an array of given range or interval\n",
    "\n",
    "np.arange(0,5)"
   ]
  },
  {
   "cell_type": "code",
   "execution_count": 24,
   "id": "a4ca5145",
   "metadata": {},
   "outputs": [
    {
     "data": {
      "text/plain": [
       "array([ 0,  2,  4,  6,  8, 10, 12, 14, 16, 18])"
      ]
     },
     "execution_count": 24,
     "metadata": {},
     "output_type": "execute_result"
    }
   ],
   "source": [
    "# If you want to control the step size\n",
    "\n",
    "np.arange(0,20,2)"
   ]
  },
  {
   "cell_type": "code",
   "execution_count": 28,
   "id": "e8992bc6",
   "metadata": {},
   "outputs": [
    {
     "data": {
      "text/plain": [
       "array([ 0.,  5., 10., 15., 20.])"
      ]
     },
     "execution_count": 28,
     "metadata": {},
     "output_type": "execute_result"
    }
   ],
   "source": [
    "# Generate  evenly spaced numbers\n",
    "'''It finds numbers that are evenly spaced in a range, you specify the number of values that you wish to have'''\n",
    "\n",
    "np.linspace(0,20,5)"
   ]
  },
  {
   "cell_type": "code",
   "execution_count": 29,
   "id": "de39e095",
   "metadata": {},
   "outputs": [
    {
     "data": {
      "text/plain": [
       "array([  0.,  25.,  50.,  75., 100.])"
      ]
     },
     "execution_count": 29,
     "metadata": {},
     "output_type": "execute_result"
    }
   ],
   "source": [
    "np.linspace(0,100,5)"
   ]
  },
  {
   "cell_type": "code",
   "execution_count": 30,
   "id": "2ea745be",
   "metadata": {},
   "outputs": [
    {
     "data": {
      "text/plain": [
       "array([  0.        ,  14.28571429,  28.57142857,  42.85714286,\n",
       "        57.14285714,  71.42857143,  85.71428571, 100.        ])"
      ]
     },
     "execution_count": 30,
     "metadata": {},
     "output_type": "execute_result"
    }
   ],
   "source": [
    "np.linspace(0,100,8)"
   ]
  },
  {
   "cell_type": "code",
   "execution_count": 31,
   "id": "117b1db5",
   "metadata": {},
   "outputs": [
    {
     "data": {
      "text/plain": [
       "array([0.95871916, 0.70254877, 0.92430877, 0.71672284])"
      ]
     },
     "execution_count": 31,
     "metadata": {},
     "output_type": "execute_result"
    }
   ],
   "source": [
    "# Generate an array with random values\n",
    "# Create an 1D array with 4 random numbers\n",
    "\n",
    "np.random.rand(4)"
   ]
  },
  {
   "cell_type": "code",
   "execution_count": 35,
   "id": "25030d49",
   "metadata": {},
   "outputs": [
    {
     "data": {
      "text/plain": [
       "array([[0.21294767, 0.56736478, 0.42753507, 0.35878636, 0.58092631],\n",
       "       [0.61862844, 0.85744797, 0.75039548, 0.38688718, 0.91255345],\n",
       "       [0.86851061, 0.67332459, 0.6195573 , 0.14367733, 0.80345153],\n",
       "       [0.74025482, 0.32177158, 0.01991481, 0.7804073 , 0.9463303 ]])"
      ]
     },
     "execution_count": 35,
     "metadata": {},
     "output_type": "execute_result"
    }
   ],
   "source": [
    "# Also can generate mulit-dimensional arrays\n",
    "\n",
    "np.random.rand(4,5)"
   ]
  },
  {
   "cell_type": "code",
   "execution_count": 40,
   "id": "d483550f",
   "metadata": {},
   "outputs": [
    {
     "data": {
      "text/plain": [
       "49"
      ]
     },
     "execution_count": 40,
     "metadata": {},
     "output_type": "execute_result"
    }
   ],
   "source": [
    "# Generating random integers between a range\n",
    "\n",
    "np.random.randint(4,50)"
   ]
  },
  {
   "cell_type": "code",
   "execution_count": 41,
   "id": "9c049c92",
   "metadata": {},
   "outputs": [
    {
     "data": {
      "text/plain": [
       "array([20, 17, 10, 37, 16,  2, 32, 12])"
      ]
     },
     "execution_count": 41,
     "metadata": {},
     "output_type": "execute_result"
    }
   ],
   "source": [
    "# Generating random integers\n",
    "\n",
    "np.random.randint(0,43, 8)"
   ]
  },
  {
   "cell_type": "code",
   "execution_count": 44,
   "id": "cf358668",
   "metadata": {},
   "outputs": [
    {
     "data": {
      "text/plain": [
       "73"
      ]
     },
     "execution_count": 44,
     "metadata": {},
     "output_type": "execute_result"
    }
   ],
   "source": [
    "# Using seed to keep random constant\n",
    "import random\n",
    "\n",
    "random.seed(10)\n",
    "\n",
    "random.randint(0,90)"
   ]
  },
  {
   "cell_type": "markdown",
   "id": "b827f205",
   "metadata": {},
   "source": [
    "**2.1 Array Indexing and Selection**"
   ]
  },
  {
   "cell_type": "code",
   "execution_count": 47,
   "id": "49f71675",
   "metadata": {},
   "outputs": [],
   "source": [
    "# Create a 1 dimensional vector\n",
    "\n",
    "array_id = np.array([1,2,3,4,5])"
   ]
  },
  {
   "cell_type": "code",
   "execution_count": 48,
   "id": "6fc4dc83",
   "metadata": {},
   "outputs": [
    {
     "data": {
      "text/plain": [
       "2"
      ]
     },
     "execution_count": 48,
     "metadata": {},
     "output_type": "execute_result"
    }
   ],
   "source": [
    "# Indexing: selecting an element fom an array\n",
    "\n",
    "array_id[1]"
   ]
  },
  {
   "cell_type": "code",
   "execution_count": 49,
   "id": "a7cd4d90",
   "metadata": {},
   "outputs": [
    {
     "data": {
      "text/plain": [
       "5"
      ]
     },
     "execution_count": 49,
     "metadata": {},
     "output_type": "execute_result"
    }
   ],
   "source": [
    "array_id[-1]"
   ]
  },
  {
   "cell_type": "code",
   "execution_count": 50,
   "id": "90e9d72e",
   "metadata": {},
   "outputs": [
    {
     "data": {
      "text/plain": [
       "array([3, 4, 5])"
      ]
     },
     "execution_count": 50,
     "metadata": {},
     "output_type": "execute_result"
    }
   ],
   "source": [
    "# Slicing : Returning a group of elements\n",
    "\n",
    "array_id[2:5]"
   ]
  },
  {
   "cell_type": "code",
   "execution_count": 51,
   "id": "5619a0e4",
   "metadata": {},
   "outputs": [
    {
     "data": {
      "text/plain": [
       "array([3, 4, 5])"
      ]
     },
     "execution_count": 51,
     "metadata": {},
     "output_type": "execute_result"
    }
   ],
   "source": [
    "array_id[2:len(array_id)]"
   ]
  },
  {
   "cell_type": "markdown",
   "id": "f52a6517",
   "metadata": {},
   "source": [
    "**2.2 2D Array Indexing And Selection**"
   ]
  },
  {
   "cell_type": "code",
   "execution_count": 52,
   "id": "67945a2d",
   "metadata": {},
   "outputs": [],
   "source": [
    "# Indexing a 2D array\n",
    "\n",
    "array_2d = np.array([[1,2,3], [4,5,6], [7,8,9]])"
   ]
  },
  {
   "cell_type": "code",
   "execution_count": 61,
   "id": "3329b3ac",
   "metadata": {},
   "outputs": [
    {
     "data": {
      "text/plain": [
       "array([[1, 2, 3],\n",
       "       [4, 5, 6],\n",
       "       [7, 8, 9]])"
      ]
     },
     "execution_count": 61,
     "metadata": {},
     "output_type": "execute_result"
    }
   ],
   "source": [
    "array_2d"
   ]
  },
  {
   "cell_type": "code",
   "execution_count": 54,
   "id": "78b2e014",
   "metadata": {},
   "outputs": [
    {
     "data": {
      "text/plain": [
       "array([1, 2, 3])"
      ]
     },
     "execution_count": 54,
     "metadata": {},
     "output_type": "execute_result"
    }
   ],
   "source": [
    "array_2d[0]"
   ]
  },
  {
   "cell_type": "code",
   "execution_count": 62,
   "id": "f66f0304",
   "metadata": {},
   "outputs": [
    {
     "data": {
      "text/plain": [
       "array([[1, 2, 3],\n",
       "       [4, 5, 6],\n",
       "       [7, 8, 9]])"
      ]
     },
     "execution_count": 62,
     "metadata": {},
     "output_type": "execute_result"
    }
   ],
   "source": [
    "array_2d[:]"
   ]
  },
  {
   "cell_type": "code",
   "execution_count": 53,
   "id": "4432a1e7",
   "metadata": {},
   "outputs": [
    {
     "data": {
      "text/plain": [
       "5"
      ]
     },
     "execution_count": 53,
     "metadata": {},
     "output_type": "execute_result"
    }
   ],
   "source": [
    "# Selecting individual element\n",
    "# array_2d[row][column]\n",
    "\n",
    "array_2d[1][1]"
   ]
  },
  {
   "cell_type": "code",
   "execution_count": 57,
   "id": "673f5a3c",
   "metadata": {},
   "outputs": [
    {
     "data": {
      "text/plain": [
       "array([7, 8, 9])"
      ]
     },
     "execution_count": 57,
     "metadata": {},
     "output_type": "execute_result"
    }
   ],
   "source": [
    "# The last column, obtain it\n",
    "\n",
    "array_2d[-1]"
   ]
  },
  {
   "cell_type": "code",
   "execution_count": 68,
   "id": "2a06fe77",
   "metadata": {},
   "outputs": [
    {
     "data": {
      "text/plain": [
       "array([3, 6, 9])"
      ]
     },
     "execution_count": 68,
     "metadata": {},
     "output_type": "execute_result"
    }
   ],
   "source": [
    "array_2d[:,2]"
   ]
  },
  {
   "cell_type": "code",
   "execution_count": 69,
   "id": "70eb2a28",
   "metadata": {},
   "outputs": [
    {
     "data": {
      "text/plain": [
       "array([3, 6, 9])"
      ]
     },
     "execution_count": 69,
     "metadata": {},
     "output_type": "execute_result"
    }
   ],
   "source": [
    "# Selecting an entire column\n",
    "\n",
    "array_2d[:, 2]"
   ]
  },
  {
   "cell_type": "code",
   "execution_count": 70,
   "id": "884529ff",
   "metadata": {},
   "outputs": [
    {
     "data": {
      "text/plain": [
       "array([7, 8, 9])"
      ]
     },
     "execution_count": 70,
     "metadata": {},
     "output_type": "execute_result"
    }
   ],
   "source": [
    "# Geberating an entire row\n",
    "\n",
    "array_2d[2, :]"
   ]
  },
  {
   "cell_type": "markdown",
   "id": "53b175aa",
   "metadata": {},
   "source": [
    "**Conditional Selection**"
   ]
  },
  {
   "cell_type": "code",
   "execution_count": 71,
   "id": "9b510ada",
   "metadata": {},
   "outputs": [],
   "source": [
    "# Let's create an array\n",
    "\n",
    "arr = np.array(([1,2,3], [4,5,6], [7,8,9]))"
   ]
  },
  {
   "cell_type": "code",
   "execution_count": 72,
   "id": "44a47e17",
   "metadata": {},
   "outputs": [
    {
     "data": {
      "text/plain": [
       "array([1, 2, 3, 4, 5])"
      ]
     },
     "execution_count": 72,
     "metadata": {},
     "output_type": "execute_result"
    }
   ],
   "source": [
    "# Selecting elements in an array that are less than 6\n",
    "\n",
    "arr[arr < 6]"
   ]
  },
  {
   "cell_type": "code",
   "execution_count": 73,
   "id": "7e7515c6",
   "metadata": {},
   "outputs": [
    {
     "data": {
      "text/plain": [
       "array([2, 4, 6, 8])"
      ]
     },
     "execution_count": 73,
     "metadata": {},
     "output_type": "execute_result"
    }
   ],
   "source": [
    "# Select all even numbers in an array\n",
    "\n",
    "arr[arr % 2 == 0]"
   ]
  },
  {
   "cell_type": "code",
   "execution_count": 75,
   "id": "0ce8a393",
   "metadata": {},
   "outputs": [
    {
     "data": {
      "text/plain": [
       "array([7, 9])"
      ]
     },
     "execution_count": 75,
     "metadata": {},
     "output_type": "execute_result"
    }
   ],
   "source": [
    "# Joining conditions\n",
    "\n",
    "arr[(arr % 2 != 0) & (arr > 5)]"
   ]
  },
  {
   "cell_type": "code",
   "execution_count": 76,
   "id": "f59f01f0",
   "metadata": {},
   "outputs": [
    {
     "data": {
      "text/plain": [
       "array([[False, False, False],\n",
       "       [False, False,  True],\n",
       "       [ True,  True,  True]])"
      ]
     },
     "execution_count": 76,
     "metadata": {},
     "output_type": "execute_result"
    }
   ],
   "source": [
    "# Logocal selection\n",
    "\n",
    "arr > 5"
   ]
  },
  {
   "cell_type": "code",
   "execution_count": 77,
   "id": "9080d4c3",
   "metadata": {},
   "outputs": [
    {
     "data": {
      "text/plain": [
       "array([[False, False, False],\n",
       "       [False, False, False],\n",
       "       [False, False, False]])"
      ]
     },
     "execution_count": 77,
     "metadata": {},
     "output_type": "execute_result"
    }
   ],
   "source": [
    "# We don't have 0 in our array\n",
    "\n",
    "arr == 0"
   ]
  },
  {
   "cell_type": "markdown",
   "id": "a73011d1",
   "metadata": {},
   "source": [
    "**Basic Array Operation**"
   ]
  },
  {
   "cell_type": "code",
   "execution_count": 78,
   "id": "49963a95",
   "metadata": {},
   "outputs": [],
   "source": [
    "# Create arrays\n",
    "\n",
    "arr1 = np.arange(0,5)\n",
    "arr2 = np.arange(6,11)"
   ]
  },
  {
   "cell_type": "code",
   "execution_count": 81,
   "id": "3253d3c9",
   "metadata": {},
   "outputs": [
    {
     "data": {
      "text/plain": [
       "array([ 6,  8, 10, 12, 14])"
      ]
     },
     "execution_count": 81,
     "metadata": {},
     "output_type": "execute_result"
    }
   ],
   "source": [
    "# Addition of arrays and the same for the rest of operations\n",
    "\n",
    "arr1 + arr2"
   ]
  },
  {
   "cell_type": "code",
   "execution_count": 82,
   "id": "e0ad455b",
   "metadata": {},
   "outputs": [
    {
     "data": {
      "text/plain": [
       "array([ 6,  8, 10, 12, 14])"
      ]
     },
     "execution_count": 82,
     "metadata": {},
     "output_type": "execute_result"
    }
   ],
   "source": [
    "# Using in-built functions of numpy\n",
    "\n",
    "np.add(arr1, arr2)"
   ]
  },
  {
   "cell_type": "code",
   "execution_count": 83,
   "id": "274cfd7b",
   "metadata": {},
   "outputs": [
    {
     "data": {
      "text/plain": [
       "array([ 0.        ,  0.84147098,  0.90929743,  0.14112001, -0.7568025 ])"
      ]
     },
     "execution_count": 83,
     "metadata": {},
     "output_type": "execute_result"
    }
   ],
   "source": [
    "np.sin(arr1)"
   ]
  },
  {
   "cell_type": "code",
   "execution_count": 86,
   "id": "b8123f10",
   "metadata": {},
   "outputs": [
    {
     "data": {
      "text/plain": [
       "array([1.79175947, 1.94591015, 2.07944154, 2.19722458, 2.30258509])"
      ]
     },
     "execution_count": 86,
     "metadata": {},
     "output_type": "execute_result"
    }
   ],
   "source": [
    "# Calculating the logarithm\n",
    "\n",
    "np.log(arr2)"
   ]
  },
  {
   "cell_type": "code",
   "execution_count": 87,
   "id": "9629461e",
   "metadata": {},
   "outputs": [
    {
     "data": {
      "text/plain": [
       "array([ True,  True,  True,  True,  True])"
      ]
     },
     "execution_count": 87,
     "metadata": {},
     "output_type": "execute_result"
    }
   ],
   "source": [
    "np.greater(arr2, arr1)"
   ]
  },
  {
   "cell_type": "markdown",
   "id": "03b9966d",
   "metadata": {},
   "source": [
    "**Basic Statisitics**"
   ]
  },
  {
   "cell_type": "code",
   "execution_count": 88,
   "id": "769f57d8",
   "metadata": {},
   "outputs": [],
   "source": [
    "# Creating an array\n",
    "\n",
    "arr1 = np.arange(0,5)\n",
    "arr2 = np.arange(6,11)"
   ]
  },
  {
   "cell_type": "code",
   "execution_count": 89,
   "id": "f62260e7",
   "metadata": {},
   "outputs": [
    {
     "data": {
      "text/plain": [
       "1.4142135623730951"
      ]
     },
     "execution_count": 89,
     "metadata": {},
     "output_type": "execute_result"
    }
   ],
   "source": [
    "# Standard dev\n",
    "\n",
    "np.std(arr1)"
   ]
  },
  {
   "cell_type": "code",
   "execution_count": 90,
   "id": "9c2a8889",
   "metadata": {},
   "outputs": [
    {
     "data": {
      "text/plain": [
       "2.23606797749979"
      ]
     },
     "execution_count": 90,
     "metadata": {},
     "output_type": "execute_result"
    }
   ],
   "source": [
    "arr3 = np.std([[3,5], [7,9]])"
   ]
  },
  {
   "cell_type": "code",
   "execution_count": 93,
   "id": "d3f481fa",
   "metadata": {},
   "outputs": [
    {
     "data": {
      "text/plain": [
       "1.4142135623730951"
      ]
     },
     "execution_count": 93,
     "metadata": {},
     "output_type": "execute_result"
    }
   ],
   "source": [
    "# Specifying the axis\n",
    "# By default, the std is computed on the flattened values\n",
    "\n",
    "np.std(arr2, axis=0)"
   ]
  },
  {
   "cell_type": "code",
   "execution_count": 94,
   "id": "dce0ccd7",
   "metadata": {},
   "outputs": [
    {
     "data": {
      "text/plain": [
       "2.0"
      ]
     },
     "execution_count": 94,
     "metadata": {},
     "output_type": "execute_result"
    }
   ],
   "source": [
    "# Variance\n",
    "\n",
    "np.var(arr2)"
   ]
  },
  {
   "cell_type": "code",
   "execution_count": 95,
   "id": "35f5aeab",
   "metadata": {},
   "outputs": [
    {
     "data": {
      "text/plain": [
       "2.0"
      ]
     },
     "execution_count": 95,
     "metadata": {},
     "output_type": "execute_result"
    }
   ],
   "source": [
    "# Mean\n",
    "\n",
    "np.mean(arr1)"
   ]
  },
  {
   "cell_type": "code",
   "execution_count": 97,
   "id": "a66ce40e",
   "metadata": {},
   "outputs": [
    {
     "data": {
      "text/plain": [
       "2.0"
      ]
     },
     "execution_count": 97,
     "metadata": {},
     "output_type": "execute_result"
    }
   ],
   "source": [
    "# Average\n",
    "# Mean gives the same value as the average\n",
    "\n",
    "np.average(arr1)"
   ]
  },
  {
   "cell_type": "code",
   "execution_count": 98,
   "id": "75771fa1",
   "metadata": {},
   "outputs": [
    {
     "data": {
      "text/plain": [
       "2.0"
      ]
     },
     "execution_count": 98,
     "metadata": {},
     "output_type": "execute_result"
    }
   ],
   "source": [
    "# Median\n",
    "\n",
    "np.median(arr1)"
   ]
  },
  {
   "cell_type": "code",
   "execution_count": 100,
   "id": "3cc3399b",
   "metadata": {},
   "outputs": [
    {
     "data": {
      "text/plain": [
       "0"
      ]
     },
     "execution_count": 100,
     "metadata": {},
     "output_type": "execute_result"
    }
   ],
   "source": [
    "# Min and max\n",
    "\n",
    "np.min(arr1)"
   ]
  },
  {
   "cell_type": "code",
   "execution_count": 101,
   "id": "1cf67f89",
   "metadata": {},
   "outputs": [
    {
     "data": {
      "text/plain": [
       "4"
      ]
     },
     "execution_count": 101,
     "metadata": {},
     "output_type": "execute_result"
    }
   ],
   "source": [
    "np.max(arr1)"
   ]
  },
  {
   "cell_type": "code",
   "execution_count": 103,
   "id": "836245bd",
   "metadata": {},
   "outputs": [
    {
     "data": {
      "text/plain": [
       "(5,)"
      ]
     },
     "execution_count": 103,
     "metadata": {},
     "output_type": "execute_result"
    }
   ],
   "source": [
    "np.shape(arr1)"
   ]
  },
  {
   "cell_type": "code",
   "execution_count": 108,
   "id": "90480d92",
   "metadata": {},
   "outputs": [],
   "source": [
    "arr3 = np.array([[1,2,3], [4,5,6], [7,5,3]])"
   ]
  },
  {
   "cell_type": "code",
   "execution_count": 109,
   "id": "31cdceb3",
   "metadata": {},
   "outputs": [
    {
     "data": {
      "text/plain": [
       "(3, 3)"
      ]
     },
     "execution_count": 109,
     "metadata": {},
     "output_type": "execute_result"
    }
   ],
   "source": [
    "np.shape(arr3)"
   ]
  },
  {
   "cell_type": "code",
   "execution_count": 110,
   "id": "bdb797fa",
   "metadata": {},
   "outputs": [
    {
     "data": {
      "text/plain": [
       "(3, 3)"
      ]
     },
     "execution_count": 110,
     "metadata": {},
     "output_type": "execute_result"
    }
   ],
   "source": [
    "# Alternaatively\n",
    "\n",
    "arr3.shape"
   ]
  },
  {
   "cell_type": "code",
   "execution_count": 111,
   "id": "5fa56418",
   "metadata": {},
   "outputs": [
    {
     "data": {
      "text/plain": [
       "'\\nRe-Shaping\\nResizing\\nCopying\\nJoining Array\\nConcatenating\\nSpliting\\nAppending\\nSorting\\nReverse\\nTransposing\\n'"
      ]
     },
     "execution_count": 111,
     "metadata": {},
     "output_type": "execute_result"
    }
   ],
   "source": [
    "# Reading \n",
    "\n",
    "\"\"\"\n",
    "Re-Shaping\n",
    "Resizing\n",
    "Copying\n",
    "Joining Array\n",
    "Concatenating\n",
    "Spliting\n",
    "Appending\n",
    "Sorting\n",
    "Reverse\n",
    "Transposing\n",
    "\"\"\""
   ]
  }
 ],
 "metadata": {
  "kernelspec": {
   "display_name": "Python 3 (ipykernel)",
   "language": "python",
   "name": "python3"
  },
  "language_info": {
   "codemirror_mode": {
    "name": "ipython",
    "version": 3
   },
   "file_extension": ".py",
   "mimetype": "text/x-python",
   "name": "python",
   "nbconvert_exporter": "python",
   "pygments_lexer": "ipython3",
   "version": "3.10.12"
  }
 },
 "nbformat": 4,
 "nbformat_minor": 5
}
