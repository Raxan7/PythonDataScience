{
 "cells": [
  {
   "cell_type": "markdown",
   "id": "565265ec",
   "metadata": {},
   "source": [
    "## Question 1"
   ]
  },
  {
   "cell_type": "code",
   "execution_count": 1,
   "id": "205ef52d",
   "metadata": {},
   "outputs": [
    {
     "name": "stdout",
     "output_type": "stream",
     "text": [
      "Saidi 23 23.4 23.332 True\n"
     ]
    }
   ],
   "source": [
    "# Variables\n",
    "name = \"Saidi\"\n",
    "age = 23\n",
    "weight = 23.4\n",
    "height = 23.332\n",
    "isMale = True\n",
    "print(name, age, weight, height, isMale)"
   ]
  },
  {
   "cell_type": "code",
   "execution_count": 7,
   "id": "060a3467",
   "metadata": {},
   "outputs": [
    {
     "name": "stdout",
     "output_type": "stream",
     "text": [
      "Enter the first number : 123\n",
      "Enter the second number : \n",
      "23\n",
      "Addition = 146\n",
      "Subtraction = 100\n",
      "Multiplication = 2829\n",
      "Division = 100\n"
     ]
    }
   ],
   "source": [
    "## Program to perform basic arithmetics\n",
    "\n",
    "num1 = int(input(\"Enter the first number : \"))\n",
    "num2 = int(input(\"Enter the second number : \"))\n",
    "addition = num1 + num2\n",
    "print(f\"Addition = {addition}\")\n",
    "\n",
    "subtraction = num1 - num2\n",
    "print(f\"Subtraction = {subtraction}\")\n",
    "\n",
    "multiplication = num1 * num2\n",
    "print(f\"Multiplication = {multiplication}\")\n",
    "\n",
    "division = num1 - num2\n",
    "print(f\"Division = {division}\")"
   ]
  },
  {
   "cell_type": "code",
   "execution_count": 3,
   "id": "9d02ce84",
   "metadata": {},
   "outputs": [
    {
     "name": "stdout",
     "output_type": "stream",
     "text": [
      "Hello there Saidi Manyerere\n"
     ]
    }
   ],
   "source": [
    "# String concatenation\n",
    "first_name = \"Saidi \"\n",
    "last_name = \"Manyerere\"\n",
    "print(\"Hello there \" + first_name + last_name)"
   ]
  },
  {
   "cell_type": "code",
   "execution_count": 3,
   "id": "d1bf5f40",
   "metadata": {},
   "outputs": [
    {
     "name": "stdout",
     "output_type": "stream",
     "text": [
      "Enter the temperature in celcius to convert to fahrenheit : 100\n",
      "The temperature is 212.0\n",
      "\n",
      "Enter the temperature in fahrenheit to convert to celcius : 212\n",
      "The temperature is 100.0\n"
     ]
    }
   ],
   "source": [
    "# °F = (°C × 9/5) + 32\n",
    "\n",
    "# It's just as easy to convert Fahrenheit to Celcius;\n",
    "\n",
    "# °C = (°F − 32) x 5/9 \n",
    "def convert_to_fahrenheit(temp):\n",
    "    answer = (temp * 9 / 5) + 32\n",
    "    return answer\n",
    "\n",
    "def convert_to_celcius(temp):\n",
    "    answer = (temp - 32) * 5 / 9\n",
    "    return answer\n",
    "\n",
    "temp_in_F = int(input(\"Enter the temperature in celcius to convert to fahrenheit : \"))\n",
    "print(f\"The temperature is {convert_to_fahrenheit(temp_in_F)}\\n\")\n",
    "\n",
    "temp_in_C = int(input(\"Enter the temperature in fahrenheit to convert to celcius : \"))\n",
    "print(f\"The temperature is {convert_to_celcius(temp_in_C)}\")"
   ]
  },
  {
   "cell_type": "markdown",
   "id": "a67eefef",
   "metadata": {},
   "source": [
    "## Question 2"
   ]
  },
  {
   "cell_type": "code",
   "execution_count": 9,
   "id": "a9752266",
   "metadata": {},
   "outputs": [
    {
     "name": "stdout",
     "output_type": "stream",
     "text": [
      "The number is Even\n"
     ]
    }
   ],
   "source": [
    "# Check if the number is even or odd\n",
    "def isOddOrEven(number):\n",
    "    if number % 2 == 0:\n",
    "        print(\"The number is Even\")\n",
    "    elif number % 2 != 0:\n",
    "        print(\"The number is Odd\")\n",
    "\n",
    "# Check for 8       \n",
    "isOddOrEven(8)"
   ]
  },
  {
   "cell_type": "code",
   "execution_count": 1,
   "id": "42db3aa6",
   "metadata": {},
   "outputs": [
    {
     "name": "stdout",
     "output_type": "stream",
     "text": [
      "Enter the first number : dsds\n",
      "Invalid Input\n",
      "Enter the first number : dsds\n",
      "Invalid Input\n",
      "Enter the first number : dfasdf\n",
      "Invalid Input\n",
      "Enter the first number : sas\n",
      "Invalid Input\n",
      "Enter the first number : 34\n",
      "What operation would you like to perform : -\n",
      "Enter the second number : 342\n",
      "-308\n",
      "Do you wish to continue? : [yes/no]no\n"
     ]
    }
   ],
   "source": [
    "def calculator():\n",
    "    isActive = True\n",
    "    while isActive:\n",
    "        try:\n",
    "            num1 = int(input(\"Enter the first number : \"))\n",
    "            op = input(\"What operation would you like to perform : \")\n",
    "            num2 = int(input(\"Enter the second number : \"))\n",
    "            if op == '+':\n",
    "                print(num1 + num2)\n",
    "            elif op == '-':\n",
    "                print(num1 - num2)\n",
    "            elif op == '*':\n",
    "                print(num1 * num2)\n",
    "            elif op == '/':\n",
    "                print(num1 / num2)\n",
    "            elif op == '%':\n",
    "                print(num1 % num2)\n",
    "            cont = input(\"Do you wish to continue? : [yes/no]\")\n",
    "            if cont.upper() == \"YES\":\n",
    "                isActive = True\n",
    "            else:\n",
    "                isActive = False\n",
    "        except :\n",
    "            print(\"Invalid Input\")\n",
    "    \n",
    "\n",
    "calculator()"
   ]
  },
  {
   "cell_type": "code",
   "execution_count": 14,
   "id": "9e76206e",
   "metadata": {},
   "outputs": [
    {
     "name": "stdout",
     "output_type": "stream",
     "text": [
      "4 x 0 = 0\n",
      "\n",
      "4 x 1 = 4\n",
      "\n",
      "4 x 2 = 8\n",
      "\n",
      "4 x 3 = 12\n",
      "\n",
      "4 x 4 = 16\n",
      "\n",
      "4 x 5 = 20\n",
      "\n",
      "4 x 6 = 24\n",
      "\n",
      "4 x 7 = 28\n",
      "\n",
      "4 x 8 = 32\n",
      "\n",
      "4 x 9 = 36\n",
      "\n",
      "4 x 10 = 40\n",
      "\n",
      "4 x 11 = 44\n",
      "\n",
      "4 x 12 = 48\n",
      "\n"
     ]
    }
   ],
   "source": [
    "# 2 - c\n",
    "\n",
    "def mult_table(num):\n",
    "    for i in range(0, 13):\n",
    "        print(f\"{num} x {i} = {i * num}\\n\")\n",
    "\n",
    "mult_table(4)"
   ]
  },
  {
   "cell_type": "code",
   "execution_count": 9,
   "id": "a080b5e9",
   "metadata": {},
   "outputs": [
    {
     "name": "stdout",
     "output_type": "stream",
     "text": [
      "120\n"
     ]
    }
   ],
   "source": [
    "# 2 - d\n",
    "\n",
    "def factorial(num):\n",
    "    \"\"\"\n",
    "        This function finds the factorial of any given positive number\n",
    "        \n",
    "        Example --\n",
    "        \n",
    "        factorial(num = 5) -> 120\n",
    "        \n",
    "        5! = 5 * 4* 3 * 2 * 1\n",
    "        \n",
    "    \"\"\"\n",
    "    answer = 1\n",
    "    if (num > 0):\n",
    "        for i in range(1, (num+1)):\n",
    "            answer *= i\n",
    "    return answer\n",
    "\n",
    "\n",
    "# Calculate the fatorial of 5\n",
    "print(factorial(5))"
   ]
  },
  {
   "cell_type": "markdown",
   "id": "34e63c58",
   "metadata": {},
   "source": [
    "## Question 3\n",
    "**(a)**"
   ]
  },
  {
   "cell_type": "code",
   "execution_count": 12,
   "id": "220590dd",
   "metadata": {},
   "outputs": [
    {
     "name": "stdout",
     "output_type": "stream",
     "text": [
      "The third element in the list is 3\n",
      "\n",
      "The list after appending 12 is [1, 2, 3, 4, 5, 6, 7, 8, 9, 10, 12]\n",
      "\n",
      "The list after removing the last element is [1, 2, 3, 4, 5, 6, 7, 8, 9, 10]\n",
      "\n"
     ]
    }
   ],
   "source": [
    "# A basic list of integers\n",
    "integers_list = [1,2,3,4,5,6,7,8,9,10]\n",
    "\n",
    "print(f\"The list is as \")\n",
    "\n",
    "# Accessing the elements in a list\n",
    "# ---- The third element in the list --> 3\n",
    "print(\"The third element in the list is \" + str(integers_list[2]) + \"\\n\")\n",
    "\n",
    "\n",
    "# Appending elements in a list\n",
    "# ---- Append 12 at the end of the list and print it out\n",
    "integers_list.append(12)\n",
    "print(f\"The list after appending 12 is {integers_list}\\n\")\n",
    "\n",
    "\n",
    "# Removing elements from a list\n",
    "# ---- Remove the last element from the list using pop() method\n",
    "integers_list.pop()\n",
    "print(f\"The list after removing the last element is {integers_list}\\n\")"
   ]
  },
  {
   "cell_type": "code",
   "execution_count": 9,
   "id": "40310852",
   "metadata": {},
   "outputs": [
    {
     "name": "stdout",
     "output_type": "stream",
     "text": [
      "[245, 247, 731, 733, 636, 14, 822, 217, 845, 195, 742, 297, 895, 119, 571, 886, 191, 292, 520, 451, 368, 623, 92, 108, 279, 35, 417, 859, 704, 592, 719, 829, 642, 77, 751, 508, 714, 35, 727, 144, 855, 885, 853, 193, 52, 858, 415, 467, 745, 567, 285, 770, 75, 561, 520, 232, 858, 287, 481, 587, 842, 566, 99, 867, 188, 501, 116, 854, 225, 163, 618, 735, 182, 103, 272, 530, 403, 741, 630, 294, 52, 148, 60, 491, 105, 263, 406, 570, 887, 175, 585, 55, 85, 203, 57, 57, 404, 158, 692, 657, 201, 603, 345, 393, 845, 244, 267, 212, 504, 169, 209, 150, 711, 516, 511, 259, 380, 547, 783, 457, 303, 507, 100, 341, 839, 101, 6, 462, 105, 888, 121, 843, 762, 182, 519, 132, 831, 752, 742, 438, 726, 125, 395, 437, 681, 191, 290, 497, 88, 176, 272, 335, 256, 830, 678, 266, 379, 579, 221, 202, 40, 94, 254, 723, 368, 527, 529, 607, 604, 333, 354, 444, 159, 643, 490, 783, 401, 349, 86, 441, 160, 774, 67, 402, 829, 446, 73, 133, 456, 758, 624, 202, 426, 536, 833, 120, 65, 459, 200, 258]\n"
     ]
    }
   ],
   "source": [
    "import random\n",
    "randomlist = []\n",
    "for i in range(0,200):\n",
    "    n = random.randint(1,900)\n",
    "    randomlist.append(n)\n",
    "print(randomlist)"
   ]
  },
  {
   "cell_type": "code",
   "execution_count": 10,
   "id": "9dea778b",
   "metadata": {},
   "outputs": [
    {
     "name": "stdout",
     "output_type": "stream",
     "text": [
      "The largest number is 895\n",
      "\n",
      "The smallest number is 6\n"
     ]
    }
   ],
   "source": [
    "# Using the list generated\n",
    "randomlist\n",
    "\n",
    "def find_largest_and_smallest():\n",
    "    large = 0\n",
    "    small = 100000000\n",
    "    for i in randomlist:\n",
    "        if (i > large):\n",
    "            large = i\n",
    "        if (i < small):\n",
    "            small = i\n",
    "    print(f\"The largest number is {large}\\n\")\n",
    "    print(f\"The smallest number is {small}\")\n",
    "\n",
    "find_largest_and_smallest()"
   ]
  },
  {
   "cell_type": "markdown",
   "id": "cc54551e",
   "metadata": {},
   "source": [
    "**(c)**"
   ]
  },
  {
   "cell_type": "code",
   "execution_count": 10,
   "id": "a3d75ecc",
   "metadata": {},
   "outputs": [
    {
     "name": "stdout",
     "output_type": "stream",
     "text": [
      "['apples', 'bringles', 'peas']\n"
     ]
    }
   ],
   "source": [
    "# List comprehensions\n",
    "\n",
    "fruits = [\"apples\", \"banana\", \"papaya\", \"guava\", \"avocado\", \"bringles\", \"peas\"]\n",
    "\n",
    "fruits_with_e = [fruit for fruit in fruits if \"e\" in fruit]\n",
    "print(fruits_with_e)"
   ]
  },
  {
   "cell_type": "markdown",
   "id": "fd48e67f",
   "metadata": {},
   "source": [
    "**(d)**"
   ]
  },
  {
   "cell_type": "code",
   "execution_count": 12,
   "id": "0ef6e15b",
   "metadata": {},
   "outputs": [
    {
     "name": "stdout",
     "output_type": "stream",
     "text": [
      "['peas', 'bringles', 'avocado', 'guava', 'papaya', 'banana', 'apples']\n"
     ]
    }
   ],
   "source": [
    "# Reverse a list without using the reverse()\n",
    "fruits = [\"apples\", \"banana\", \"papaya\", \"guava\", \"avocado\", \"bringles\", \"peas\"]\n",
    "\n",
    "reversed_list = []\n",
    "for i in range(len(fruits)):\n",
    "    reversed_list.append(fruits.pop())\n",
    "\n",
    "print(reversed_list)    "
   ]
  },
  {
   "cell_type": "markdown",
   "id": "d08b464b",
   "metadata": {},
   "source": [
    "## Question 4\n",
    "**(a)**"
   ]
  },
  {
   "cell_type": "code",
   "execution_count": 32,
   "id": "185ccb96",
   "metadata": {},
   "outputs": [
    {
     "name": "stdout",
     "output_type": "stream",
     "text": [
      "The string is a palindrome\n"
     ]
    }
   ],
   "source": [
    "# Function to check if string is palindrome\n",
    "def isPalindrome(string):\n",
    "    # Convert the string to a list\n",
    "    str_list = list(string)\n",
    "    \n",
    "    forward = []\n",
    "    backward = []\n",
    "    \n",
    "    # Check if the number of characters in the str_list is odd or even\n",
    "    if len(str_list) % 2 == 0:\n",
    "        # If it is even run half the number of iterations\n",
    "        for i in range(int(len(str_list)/2)):\n",
    "            forward.append(str_list[i])\n",
    "            backward.append(str_list.pop())\n",
    "        if (forward == backward):\n",
    "            print(\"The string is a palindrome\")\n",
    "        else:\n",
    "            print(\"The string is not a palindrome\")\n",
    "    elif len(str_list) % 2 != 0:\n",
    "        for i in range(int((len(str_list)-1)/2)):\n",
    "            forward.append(str_list[i])\n",
    "            backward.append(str_list.pop())\n",
    "        if (forward == backward):\n",
    "            print(\"The string is a palindrome\")\n",
    "        else:\n",
    "            print(\"The string is not a palindrome\")\n",
    "\n",
    "\n",
    "isPalindrome(\"abuba\")"
   ]
  },
  {
   "cell_type": "markdown",
   "id": "696e83fc",
   "metadata": {},
   "source": [
    "**(b)**"
   ]
  },
  {
   "cell_type": "code",
   "execution_count": 35,
   "id": "b4a7d6f9",
   "metadata": {},
   "outputs": [
    {
     "name": "stdout",
     "output_type": "stream",
     "text": [
      "Enter the radius of the circle in cm : 70\n",
      "\n",
      "The area of the circle is 15400.0 cm square\n"
     ]
    }
   ],
   "source": [
    "def area_of_circle(radius):\n",
    "    \"\"\"\n",
    "        Formula for calculating area of a circle using the radius\n",
    "        area = pie\n",
    "    \"\"\"\n",
    "    area = (22 / 7) * radius * radius\n",
    "    return area\n",
    "\n",
    "radius = float(input(\"Enter the radius of the circle in cm : \"))\n",
    "\n",
    "print(f\"\\nThe area of the circle is {area_of_circle(radius)} cm square\")"
   ]
  },
  {
   "cell_type": "markdown",
   "id": "c853dd58",
   "metadata": {},
   "source": [
    "### (c)"
   ]
  },
  {
   "cell_type": "code",
   "execution_count": 27,
   "id": "8d7982b2",
   "metadata": {},
   "outputs": [
    {
     "name": "stdout",
     "output_type": "stream",
     "text": [
      "120\n"
     ]
    }
   ],
   "source": [
    "# Using A Recursive Function to find factorial of a number\n",
    "\n",
    "def factorial(number):\n",
    "    if number > 0:\n",
    "        return number * factorial(number - 1)\n",
    "    else:\n",
    "        return 1\n",
    "    return number\n",
    "\n",
    "\n",
    "print(factorial(5))"
   ]
  },
  {
   "cell_type": "markdown",
   "id": "e3e3d197",
   "metadata": {},
   "source": [
    "### (d)"
   ]
  },
  {
   "cell_type": "code",
   "execution_count": 2,
   "id": "48b7aa9c",
   "metadata": {},
   "outputs": [
    {
     "name": "stdout",
     "output_type": "stream",
     "text": [
      "5\n"
     ]
    }
   ],
   "source": [
    "# Find GCD of two numbers using recursion\n",
    "\n",
    "def calculate_gcd(a, b):\n",
    "   if a == b:\n",
    "      return a\n",
    "   elif a < b:\n",
    "      return calculate_gcd(b, a)\n",
    "   else:\n",
    "      return calculate_gcd(b, a - b)\n",
    "    \n",
    "\n",
    "print(calculate_gcd(25, 45))"
   ]
  },
  {
   "cell_type": "markdown",
   "id": "1fe96976",
   "metadata": {},
   "source": [
    "\n",
    "\n",
    "\n",
    "\n",
    "## Question 5"
   ]
  },
  {
   "cell_type": "markdown",
   "id": "f828a16a",
   "metadata": {},
   "source": [
    "### (a)"
   ]
  },
  {
   "cell_type": "code",
   "execution_count": 58,
   "id": "9b4d119e",
   "metadata": {},
   "outputs": [
    {
     "name": "stdout",
     "output_type": "stream",
     "text": [
      "Saidi Alex\n"
     ]
    }
   ],
   "source": [
    "# Create a disctionary to store data\n",
    "\n",
    "dictionary = {\n",
    "    \"name\": \"Saidi Alex\",\n",
    "    \"age\": 23,\n",
    "    \"city\": \"Tabora\",\n",
    "    \"country\": \"Tanzania\"\n",
    "}\n",
    "\n",
    "print(dictionary[\"name\"])"
   ]
  },
  {
   "cell_type": "markdown",
   "id": "dea57dcf",
   "metadata": {},
   "source": [
    "### (b)"
   ]
  },
  {
   "cell_type": "code",
   "execution_count": 62,
   "id": "f3246ce1",
   "metadata": {},
   "outputs": [
    {
     "name": "stdout",
     "output_type": "stream",
     "text": [
      "{'S': 1, 'a': 11, 'i': 2, 'd': 1}\n"
     ]
    }
   ],
   "source": [
    "# Count for occurences and store in a dictionary\n",
    "\n",
    "def count_occurences(string):\n",
    "    dictionary = {}\n",
    "    str_list = list(string)\n",
    "    for i in range(len(str_list)):\n",
    "        if str_list[i] in [x for x in dictionary.keys()]:\n",
    "            dictionary[str_list[i]] += 1\n",
    "        else:\n",
    "            dictionary[str_list[i]] = 1\n",
    "    return dictionary\n",
    "            \n",
    "            \n",
    "print(count_occurences(\"Saaaaaaaaaaaidi\"))\n",
    "    "
   ]
  },
  {
   "cell_type": "markdown",
   "id": "6c5f4b64",
   "metadata": {},
   "source": [
    "### (c)"
   ]
  },
  {
   "cell_type": "code",
   "execution_count": 68,
   "id": "8d0f91ec",
   "metadata": {},
   "outputs": [
    {
     "name": "stdout",
     "output_type": "stream",
     "text": [
      "{'d': 4, 'e': 5, 'f': 6, 'g': 7, 'h': 8, 'i': 9}\n"
     ]
    }
   ],
   "source": [
    "# Dictionary Comprehensions\n",
    "data = [1,2,3,4,5,6,7,8,9]\n",
    "y = ['a','b','c','d','e','f','g','h','i']\n",
    "dictionary = {k:v for (k,v) in zip(y, data) if v > 3}\n",
    "print(dictionary)"
   ]
  },
  {
   "cell_type": "markdown",
   "id": "0e4065ad",
   "metadata": {},
   "source": [
    "### (d)"
   ]
  },
  {
   "cell_type": "code",
   "execution_count": 76,
   "id": "515424e3",
   "metadata": {},
   "outputs": [
    {
     "name": "stdout",
     "output_type": "stream",
     "text": [
      "The highest value is 9 at key i\n"
     ]
    }
   ],
   "source": [
    "# Find the max value of the largest value in dictionary\n",
    "\n",
    "def max_in_dict(dictionary):\n",
    "    highest = 0\n",
    "    keys_list  =list(dictionary.keys())\n",
    "    values_list = list(dictionary.values())\n",
    "    \n",
    "    for i in values_list:\n",
    "        if i > highest:\n",
    "            highest = i\n",
    "    print(f\"The highest value is {highest} at key {keys_list[values_list.index(highest)]}\")\n",
    "\n",
    "    \n",
    "max_in_dict(dictionary)"
   ]
  },
  {
   "cell_type": "markdown",
   "id": "371df161",
   "metadata": {},
   "source": [
    "## Question 6"
   ]
  },
  {
   "cell_type": "markdown",
   "id": "3fc1b9a3",
   "metadata": {},
   "source": [
    "### (a)"
   ]
  },
  {
   "cell_type": "code",
   "execution_count": 77,
   "id": "30eb8fa7",
   "metadata": {},
   "outputs": [],
   "source": [
    "# Create a text file\n",
    "\n",
    "with open(\"file.txt\", 'w') as file:\n",
    "    file.write(\"This is how a file is created and written into using Python\")\n",
    "    file.close()"
   ]
  },
  {
   "cell_type": "markdown",
   "id": "a1c28dcd",
   "metadata": {},
   "source": [
    "### (b)"
   ]
  },
  {
   "cell_type": "code",
   "execution_count": 78,
   "id": "fb29529a",
   "metadata": {},
   "outputs": [
    {
     "name": "stdout",
     "output_type": "stream",
     "text": [
      "This is how a file is created and written into using Python\n"
     ]
    }
   ],
   "source": [
    "# Read data from the file.txt created in the previous cell\n",
    "\n",
    "with open(\"file.txt\", 'r') as file:\n",
    "    print(file.read())\n",
    "    file.close()"
   ]
  },
  {
   "cell_type": "markdown",
   "id": "0f3032f5",
   "metadata": {},
   "source": [
    "### (c)"
   ]
  },
  {
   "cell_type": "code",
   "execution_count": 79,
   "id": "a1779093",
   "metadata": {},
   "outputs": [],
   "source": [
    "# A program to copy the content of the file into another\n",
    "\n",
    "with open(\"file.txt\", 'r') as first_file, open(\"second_file.txt\", 'w') as second_file:\n",
    "    for line in first_file:\n",
    "        second_file.write(line)"
   ]
  },
  {
   "cell_type": "markdown",
   "id": "023ee506",
   "metadata": {},
   "source": [
    "### (d)"
   ]
  },
  {
   "cell_type": "code",
   "execution_count": 83,
   "id": "b46890ea",
   "metadata": {},
   "outputs": [
    {
     "name": "stdout",
     "output_type": "stream",
     "text": [
      "The file does not exist!\n"
     ]
    }
   ],
   "source": [
    "# Handling Exceptions in files\n",
    "try:\n",
    "    with open(\"NewFile.txt\") as file2:\n",
    "        print(file2.read())\n",
    "except FileNotFoundError:\n",
    "        print(\"The file does not exist!\")"
   ]
  },
  {
   "cell_type": "markdown",
   "id": "4ac851af",
   "metadata": {},
   "source": [
    "## Question 7"
   ]
  },
  {
   "cell_type": "markdown",
   "id": "880e580e",
   "metadata": {},
   "source": [
    "### (a)"
   ]
  },
  {
   "cell_type": "code",
   "execution_count": 9,
   "id": "d9fd5e55",
   "metadata": {},
   "outputs": [
    {
     "data": {
      "text/plain": [
       "{'i': 2, 'am': 1, 'a': 1, 'boy!': 1}"
      ]
     },
     "execution_count": 9,
     "metadata": {},
     "output_type": "execute_result"
    }
   ],
   "source": [
    "# A program to calculate the occurence of specific words in a text\n",
    "\n",
    "def word_in_text(sentence):\n",
    "    sentence = sentence.lower()\n",
    "    sentence_list = sentence.split(' ')\n",
    "    dictionary = {}\n",
    "    \n",
    "    for i in range(len(sentence_list)):\n",
    "        if sentence_list[i] in [x for x in dictionary.keys()]:\n",
    "            dictionary[sentence_list[i]] += 1\n",
    "        else:\n",
    "            dictionary[sentence_list[i]] = 1\n",
    "    return dictionary\n",
    "        \n",
    "\n",
    "word_in_text(\"I am a boy! i\")"
   ]
  },
  {
   "cell_type": "markdown",
   "id": "5c68929e",
   "metadata": {},
   "source": [
    "### (b)"
   ]
  },
  {
   "cell_type": "code",
   "execution_count": 12,
   "id": "e74b29c4",
   "metadata": {},
   "outputs": [
    {
     "data": {
      "text/plain": [
       "'bandits forest the down take to day the is This'"
      ]
     },
     "execution_count": 12,
     "metadata": {},
     "output_type": "execute_result"
    }
   ],
   "source": [
    "# Reverse the order of words in a sentence\n",
    "\n",
    "def reverse_words_sentence(sentence):\n",
    "    sentence_list = sentence.split(' ')\n",
    "    reversed_sentence = []\n",
    "    for i in range(len(sentence_list)):\n",
    "        reversed_sentence.append(sentence_list.pop())\n",
    "    new_sentence = ' '.join(reversed_sentence)\n",
    "    return new_sentence\n",
    "\n",
    "\n",
    "sentence = \"This is the day to take down the forest bandits\"\n",
    "reverse_words_sentence(sentence)"
   ]
  },
  {
   "cell_type": "markdown",
   "id": "bec40bd0",
   "metadata": {},
   "source": [
    "### (c)"
   ]
  },
  {
   "cell_type": "code",
   "execution_count": 23,
   "id": "67d00332",
   "metadata": {},
   "outputs": [
    {
     "name": "stdout",
     "output_type": "stream",
     "text": [
      "The sliced part of the sentence is  --> This is the day to take down  <--\n"
     ]
    }
   ],
   "source": [
    "# String slicing to exctract certain parts of a string\n",
    "\n",
    "sentence = \"This is the day to take down the forest bandits\"\n",
    "print(f\"The sliced part of the sentence is  --> {sentence[:28]}  <--\")"
   ]
  },
  {
   "cell_type": "markdown",
   "id": "6e127201",
   "metadata": {},
   "source": [
    "### (d)"
   ]
  },
  {
   "cell_type": "code",
   "execution_count": 24,
   "id": "ed3ee9af",
   "metadata": {},
   "outputs": [
    {
     "name": "stdout",
     "output_type": "stream",
     "text": [
      "That is the day to give up the forest bandits\n"
     ]
    }
   ],
   "source": [
    "sentence = \"This is the day to take down the forest bandits\"\n",
    "\n",
    "to_target = [\"This\", \"take\", \"down\"]\n",
    "to_replace_with = [\"That\", \"give\", \"up\"]\n",
    "\n",
    "for i in range(len(to_target)):\n",
    "    sentence = sentence.replace(to_target[i], to_replace_with[i])\n",
    "\n",
    "print(sentence)"
   ]
  },
  {
   "cell_type": "markdown",
   "id": "9f7728e6",
   "metadata": {},
   "source": [
    "<h1 style=\"text-align: center;\">The End</h1>"
   ]
  }
 ],
 "metadata": {
  "kernelspec": {
   "display_name": "Python 3 (ipykernel)",
   "language": "python",
   "name": "python3"
  },
  "language_info": {
   "codemirror_mode": {
    "name": "ipython",
    "version": 3
   },
   "file_extension": ".py",
   "mimetype": "text/x-python",
   "name": "python",
   "nbconvert_exporter": "python",
   "pygments_lexer": "ipython3",
   "version": "3.10.12"
  }
 },
 "nbformat": 4,
 "nbformat_minor": 5
}
